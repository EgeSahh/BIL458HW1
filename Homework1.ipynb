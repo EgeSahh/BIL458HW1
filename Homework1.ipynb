{
 "cells": [
  {
   "cell_type": "markdown",
   "id": "614ff72b",
   "metadata": {},
   "source": [
    "# Octal to Decimal in Python "
   ]
  },
  {
   "cell_type": "code",
   "execution_count": 4,
   "id": "340cdabb",
   "metadata": {},
   "outputs": [
    {
     "name": "stdout",
     "output_type": "stream",
     "text": [
      "Oktal sayı sistemine uygun bir sayı giriniz: \n",
      "\n",
      "Girmiş olduğunuz sayının basamaklarının 0-7 arasında değerlere sahip olduğundan emin olun ! \n",
      "53\n",
      "\n",
      "Oktal sayı sistemine ait girilen sayının onluk sayı sistemindeki karşılığı = 43\n"
     ]
    }
   ],
   "source": [
    "print(\"Oktal sayı sistemine uygun bir sayı giriniz: \")\n",
    "print(\"\\nGirmiş olduğunuz sayının basamaklarının 0-7 arasında değerlere sahip olduğundan emin olun ! \")\n",
    "\n",
    "octnum = int(input()) #Girilen sayı octnum adlı değişkenin içerisinde tutuluyor.\n",
    "\n",
    "chk = 0        \n",
    "i = 0\n",
    "decnum = 0    #Başlangıçta döngünün kontrolü, oktal sayı sisteminden onluk sayı sistemine çevrilen sayının kontrolü ve girilen\n",
    "              #sayının 0-7 arasında olup olmadığının kontrolünü sağlayan değişkenler 0 olarak ayarlanıyor. \n",
    "\n",
    "while octnum!=0:          #Oktal sayı sistemine ait bir sayının onluk sayı sistemindeki karşılığını hesaplayan matematiksel işlem\n",
    "    rem = octnum%10\n",
    "    if rem>7:\n",
    "        chk = 1\n",
    "        break\n",
    "    decnum = decnum + (rem * (8 ** i))\n",
    "    i = i+1\n",
    "    octnum = int(octnum/10)\n",
    "\n",
    "if chk == 0:\n",
    "    print(\"\\nOktal sayı sistemine ait girilen sayının onluk sayı sistemindeki karşılığı =\", decnum)\n",
    "else:\n",
    "    print(\"\\nOktal sayı sistemine ait girilen sayı geçersizdir !\")"
   ]
  },
  {
   "cell_type": "code",
   "execution_count": null,
   "id": "a30ac5f2",
   "metadata": {},
   "outputs": [],
   "source": []
  }
 ],
 "metadata": {
  "kernelspec": {
   "display_name": "Python 3 (ipykernel)",
   "language": "python",
   "name": "python3"
  },
  "language_info": {
   "codemirror_mode": {
    "name": "ipython",
    "version": 3
   },
   "file_extension": ".py",
   "mimetype": "text/x-python",
   "name": "python",
   "nbconvert_exporter": "python",
   "pygments_lexer": "ipython3",
   "version": "3.9.1"
  }
 },
 "nbformat": 4,
 "nbformat_minor": 5
}
